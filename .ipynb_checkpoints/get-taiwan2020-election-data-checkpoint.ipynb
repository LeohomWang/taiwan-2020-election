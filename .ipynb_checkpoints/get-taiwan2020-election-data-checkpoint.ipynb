{
 "cells": [
  {
   "cell_type": "code",
   "execution_count": 1,
   "metadata": {
    "scrolled": false
   },
   "outputs": [],
   "source": [
    "import requests\n",
    "from bs4 import BeautifulSoup\n",
    "import pandas as pd\n",
    "from selenium import webdriver"
   ]
  },
  {
   "cell_type": "code",
   "execution_count": 6,
   "metadata": {},
   "outputs": [],
   "source": [
    "#不分區\n",
    "#url = 'https://www.cec.gov.tw/pc/zh_TW/L4/n00000000000000000.html'\n",
    "#url = 'https://www.cec.gov.tw/pc/zh_TW/L4/n63000000000000000.html'\n",
    "url = 'https://www.cec.gov.tw/pc/zh_TW/L4/n63000000100000000.html'\n",
    "headers = {  'Sec-Fetch-User': '?1'\n",
    "           , 'Upgrade-Insecure-Requests': '1'\n",
    "           , 'Referer': 'https://www.cec.gov.tw/pc/zh_TW/L4/n63000000200000000.html'\n",
    "           , 'User-Agent':\n",
    "             'Mozilla/5.0 (Macintosh; Intel Mac OS X 10_14_6) AppleWebKit/537.36 (KHTML, like Gecko) Chrome/79.0.3945.117 Safari/537.36'\n",
    "          }\n",
    "\n",
    "driver_path = '/Users/zoe/Desktop/ptt_crawler/github_data/chromedriver'"
   ]
  },
  {
   "cell_type": "code",
   "execution_count": 7,
   "metadata": {},
   "outputs": [],
   "source": [
    "driver = webdriver.Chrome(driver_path)\n",
    "driver.get(url) #前往這個網址\n",
    "driver.close()"
   ]
  },
  {
   "cell_type": "code",
   "execution_count": null,
   "metadata": {},
   "outputs": [],
   "source": []
  },
  {
   "cell_type": "code",
   "execution_count": null,
   "metadata": {},
   "outputs": [],
   "source": []
  },
  {
   "cell_type": "code",
   "execution_count": 46,
   "metadata": {},
   "outputs": [],
   "source": [
    "rs = requests.get(url, headers=headers)\n",
    "soup = BeautifulSoup(rs.content)"
   ]
  },
  {
   "cell_type": "code",
   "execution_count": 47,
   "metadata": {},
   "outputs": [
    {
     "data": {
      "text/plain": [
       "[<a class=\"main-top-logo\" href=\"#\">中央選舉委員會</a>,\n",
       " <a class=\"main-top-link main-top-link-home\" href=\"../index.html\">回首頁</a>,\n",
       " <a class=\"main-top-link main-top-link-cec\" href=\"http://web.cec.gov.tw\">中選會網站</a>,\n",
       " <a class=\"main-top-link main-top-link-english\" href=\"../../en/index.html\">English</a>,\n",
       " <a class=\"main-pvpe\" href=\"../IDX/indexP1.html\">總統副總統選舉</a>,\n",
       " <a class=\"main-le main-le-current\" href=\"../IDX/indexT.html\">立法委員選舉</a>,\n",
       " <a href=\"http://www.treemenu.net/\" style=\"text-decoration:none;color:silver\" target=\"_blank\"></a>]"
      ]
     },
     "execution_count": 47,
     "metadata": {},
     "output_type": "execute_result"
    }
   ],
   "source": [
    "soup.select('a')"
   ]
  },
  {
   "cell_type": "code",
   "execution_count": null,
   "metadata": {},
   "outputs": [],
   "source": []
  },
  {
   "cell_type": "code",
   "execution_count": null,
   "metadata": {},
   "outputs": [],
   "source": []
  }
 ],
 "metadata": {
  "kernelspec": {
   "display_name": "Python 3",
   "language": "python",
   "name": "python3"
  },
  "language_info": {
   "codemirror_mode": {
    "name": "ipython",
    "version": 3
   },
   "file_extension": ".py",
   "mimetype": "text/x-python",
   "name": "python",
   "nbconvert_exporter": "python",
   "pygments_lexer": "ipython3",
   "version": "3.7.3"
  }
 },
 "nbformat": 4,
 "nbformat_minor": 2
}
